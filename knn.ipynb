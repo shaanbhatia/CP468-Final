{
 "cells": [
  {
   "cell_type": "code",
   "execution_count": 1,
   "metadata": {},
   "outputs": [
    {
     "name": "stdout",
     "output_type": "stream",
     "text": [
      "(594453, 50)\n"
     ]
    }
   ],
   "source": [
    "import pandas as pd\n",
    "import numpy as np\n",
    "import seaborn as sns\n",
    "import matplotlib.pyplot as plt\n",
    "from sklearn import tree\n",
    "from sklearn.linear_model import LinearRegression, LogisticRegression\n",
    "from sklearn.model_selection import train_test_split\n",
    "#base dataset\n",
    "data = pd.read_csv(\"data-final.csv\")\n",
    "#remove entries at IP addresses from which multiple responses were sent\n",
    "data = data[data['IPC'] == 1].dropna()\n",
    "#remove country-less entries\n",
    "data = data[data['country'] != 'NONE']\n",
    "#responses only\n",
    "R = data.loc[:,'EXT1':'OPN10']\n",
    "R = R.astype('int')\n",
    "for col in R.columns:\n",
    "    R = R[R[col] != 0]\n",
    "    data = data[data[col] != 0]\n",
    "#segments\n",
    "EXT = R.loc[:,'EXT1':'EXT10']\n",
    "EST = R.loc[:,'EST1':'EST10']\n",
    "AGR = R.loc[:,'AGR1':'AGR10']\n",
    "CSN = R.loc[:,'CSN1':'CSN10']\n",
    "OPN = R.loc[:,'OPN1':'OPN10']\n",
    "print(R.shape)"
   ]
  },
  {
   "cell_type": "code",
   "execution_count": 2,
   "metadata": {},
   "outputs": [
    {
     "name": "stdout",
     "output_type": "stream",
     "text": [
      "predicting EST1\n",
      "[0.408, 0.456, 0.462, 0.456, 0.457, 0.448, 0.445, 0.44]\n",
      "predicting AGR8\n",
      "[0.435, 0.455, 0.484, 0.501, 0.491, 0.479, 0.473, 0.461]\n",
      "predicting CSN3\n",
      "[0.419, 0.442, 0.443, 0.454, 0.446, 0.442, 0.424, 0.422]\n",
      "predicting OPN7\n",
      "[0.482, 0.494, 0.512, 0.518, 0.518, 0.509, 0.492, 0.49]\n"
     ]
    }
   ],
   "source": [
    "from sklearn.neighbors import KNeighborsClassifier\n",
    "for target in ['AGR8','CSN3','OPN7']: #'EXT7','EST1',\n",
    "    print(f\"predicting {target}\")\n",
    "    preds = R.copy()\n",
    "    targ = preds.loc[:,target]\n",
    "    preds = preds.drop(columns=target)\n",
    "    X,y = preds.to_numpy(),targ.to_numpy()\n",
    "    for i in range(len(y)):\n",
    "        y[i] = y[i]-1\n",
    "    X_train,X_test,y_train,y_test = train_test_split(X,y,test_size=0.15,random_state=0)\n",
    "    scores = []\n",
    "    for n in [5,10,25,50,100,250,500,1000]:\n",
    "        neigh = KNeighborsClassifier(n_neighbors=n,weights='uniform')\n",
    "        neigh.fit(X_train,y_train)\n",
    "        #computationally heavy, so only tested on first 1000 test points\n",
    "        scores.append(neigh.score(X_test[:1000],y_test[:1000]))\n",
    "    print(scores)"
   ]
  },
  {
   "cell_type": "code",
   "execution_count": null,
   "metadata": {},
   "outputs": [],
   "source": [
    "# result paste\n",
    "# K-values tested:\n",
    "# [5,10,25,50,100,250,500,1000]\n",
    "# accuracies at given K values\n",
    "# predicting EXT7\n",
    "# [0.391, 0.42, 0.428, 0.429, 0.44, 0.44, 0.444, 0.436]\n",
    "# predicting EST1\n",
    "# [0.408, 0.456, 0.462, 0.456, 0.457, 0.448, 0.445, 0.44]\n",
    "# predicting AGR8\n",
    "# [0.435, 0.455, 0.484, 0.501, 0.491, 0.479, 0.473, 0.461]\n",
    "# predicting OPN7\n",
    "# [0.482, 0.494, 0.512, 0.518, 0.518, 0.509, 0.492, 0.49]"
   ]
  }
 ],
 "metadata": {
  "kernelspec": {
   "display_name": "Python 3.8.5 ('base')",
   "language": "python",
   "name": "python3"
  },
  "language_info": {
   "codemirror_mode": {
    "name": "ipython",
    "version": 3
   },
   "file_extension": ".py",
   "mimetype": "text/x-python",
   "name": "python",
   "nbconvert_exporter": "python",
   "pygments_lexer": "ipython3",
   "version": "3.8.5"
  },
  "orig_nbformat": 4,
  "vscode": {
   "interpreter": {
    "hash": "ad2bdc8ecc057115af97d19610ffacc2b4e99fae6737bb82f5d7fb13d2f2c186"
   }
  }
 },
 "nbformat": 4,
 "nbformat_minor": 2
}
