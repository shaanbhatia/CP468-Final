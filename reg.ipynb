{
 "cells": [
  {
   "cell_type": "code",
   "execution_count": 1,
   "metadata": {},
   "outputs": [
    {
     "name": "stdout",
     "output_type": "stream",
     "text": [
      "(594453, 50)\n"
     ]
    }
   ],
   "source": [
    "import pandas as pd\n",
    "import numpy as np\n",
    "import seaborn as sns\n",
    "import matplotlib.pyplot as plt\n",
    "from sklearn import tree\n",
    "from sklearn.linear_model import LinearRegression, LogisticRegression\n",
    "from sklearn.model_selection import train_test_split\n",
    "#base dataset\n",
    "data = pd.read_csv(\"data-final.csv\")\n",
    "#remove entries at IP addresses from which multiple responses were sent\n",
    "data = data[data['IPC'] == 1].dropna()\n",
    "#remove country-less entries\n",
    "data = data[data['country'] != 'NONE']\n",
    "#responses only\n",
    "R = data.loc[:,'EXT1':'OPN10']\n",
    "R = R.astype('int')\n",
    "for col in R.columns:\n",
    "    R = R[R[col] != 0]\n",
    "    data = data[data[col] != 0]\n",
    "#segments\n",
    "EXT = R.loc[:,'EXT1':'EXT10']\n",
    "EST = R.loc[:,'EST1':'EST10']\n",
    "AGR = R.loc[:,'AGR1':'AGR10']\n",
    "CSN = R.loc[:,'CSN1':'CSN10']\n",
    "OPN = R.loc[:,'OPN1':'OPN10']\n",
    "print(R.shape)"
   ]
  },
  {
   "cell_type": "code",
   "execution_count": 2,
   "metadata": {},
   "outputs": [
    {
     "name": "stdout",
     "output_type": "stream",
     "text": [
      "predicting EXT7\n",
      "Linear regression accuracy: 0.54\n",
      "predicting EST1\n",
      "Linear regression accuracy: 0.53\n",
      "predicting AGR8\n",
      "Linear regression accuracy: 0.32\n",
      "predicting CSN3\n",
      "Linear regression accuracy: 0.22\n",
      "predicting OPN7\n",
      "Linear regression accuracy: 0.29\n"
     ]
    }
   ],
   "source": [
    "#Linear regression\n",
    "for target in ['EXT7','EST1','AGR8','CSN3','OPN7']:\n",
    "    print(f\"predicting {target}\")\n",
    "    preds = R.copy()\n",
    "    targ = preds.loc[:,target]\n",
    "    preds = preds.drop(columns=target)\n",
    "    X,y = preds.to_numpy(),targ.to_numpy()\n",
    "    for i in range(len(y)):\n",
    "        y[i] = y[i]-1\n",
    "    X_train,X_test,y_train,y_test = train_test_split(X,y,test_size=0.15,random_state=0)\n",
    "\n",
    "    reg = LinearRegression()\n",
    "    reg.fit(X_train,y_train)\n",
    "    print(f'Linear regression accuracy: {reg.score(X_test,y_test):.2f}')"
   ]
  },
  {
   "cell_type": "code",
   "execution_count": null,
   "metadata": {},
   "outputs": [],
   "source": [
    "#results paste\n",
    "### these are R^2 value, NOT % predictions correct\n",
    "# predicting EXT7\n",
    "# Linear regression accuracy: 0.54\n",
    "# predicting EST1\n",
    "# Linear regression accuracy: 0.53\n",
    "# predicting AGR8\n",
    "# Linear regression accuracy: 0.32\n",
    "# predicting CSN3\n",
    "# Linear regression accuracy: 0.22\n",
    "# predicting OPN7\n",
    "# Linear regression accuracy: 0.29"
   ]
  },
  {
   "cell_type": "code",
   "execution_count": 3,
   "metadata": {},
   "outputs": [
    {
     "name": "stdout",
     "output_type": "stream",
     "text": [
      "predicting EXT7\n",
      "Logistic regression accuracy: 0.49\n",
      "predicting EST1\n",
      "Logistic regression accuracy: 0.49\n",
      "predicting AGR8\n"
     ]
    },
    {
     "name": "stderr",
     "output_type": "stream",
     "text": [
      "c:\\ProgramData\\Anaconda3\\lib\\site-packages\\sklearn\\linear_model\\_logistic.py:762: ConvergenceWarning: lbfgs failed to converge (status=1):\n",
      "STOP: TOTAL NO. of ITERATIONS REACHED LIMIT.\n",
      "\n",
      "Increase the number of iterations (max_iter) or scale the data as shown in:\n",
      "    https://scikit-learn.org/stable/modules/preprocessing.html\n",
      "Please also refer to the documentation for alternative solver options:\n",
      "    https://scikit-learn.org/stable/modules/linear_model.html#logistic-regression\n",
      "  n_iter_i = _check_optimize_result(\n"
     ]
    },
    {
     "name": "stdout",
     "output_type": "stream",
     "text": [
      "Logistic regression accuracy: 0.49\n",
      "predicting CSN3\n"
     ]
    },
    {
     "name": "stderr",
     "output_type": "stream",
     "text": [
      "c:\\ProgramData\\Anaconda3\\lib\\site-packages\\sklearn\\linear_model\\_logistic.py:762: ConvergenceWarning: lbfgs failed to converge (status=1):\n",
      "STOP: TOTAL NO. of ITERATIONS REACHED LIMIT.\n",
      "\n",
      "Increase the number of iterations (max_iter) or scale the data as shown in:\n",
      "    https://scikit-learn.org/stable/modules/preprocessing.html\n",
      "Please also refer to the documentation for alternative solver options:\n",
      "    https://scikit-learn.org/stable/modules/linear_model.html#logistic-regression\n",
      "  n_iter_i = _check_optimize_result(\n"
     ]
    },
    {
     "name": "stdout",
     "output_type": "stream",
     "text": [
      "Logistic regression accuracy: 0.49\n",
      "predicting OPN7\n",
      "Logistic regression accuracy: 0.53\n"
     ]
    },
    {
     "name": "stderr",
     "output_type": "stream",
     "text": [
      "c:\\ProgramData\\Anaconda3\\lib\\site-packages\\sklearn\\linear_model\\_logistic.py:762: ConvergenceWarning: lbfgs failed to converge (status=1):\n",
      "STOP: TOTAL NO. of ITERATIONS REACHED LIMIT.\n",
      "\n",
      "Increase the number of iterations (max_iter) or scale the data as shown in:\n",
      "    https://scikit-learn.org/stable/modules/preprocessing.html\n",
      "Please also refer to the documentation for alternative solver options:\n",
      "    https://scikit-learn.org/stable/modules/linear_model.html#logistic-regression\n",
      "  n_iter_i = _check_optimize_result(\n"
     ]
    }
   ],
   "source": [
    "#Logistic regression\n",
    "for target in ['EXT7','EST1','AGR8','CSN3','OPN7']:\n",
    "    print(f\"predicting {target}\")\n",
    "    preds = R.copy()\n",
    "    targ = preds.loc[:,target]\n",
    "    preds = preds.drop(columns=target)\n",
    "    X,y = preds.to_numpy(),targ.to_numpy()\n",
    "    for i in range(len(y)):\n",
    "        y[i] = y[i]-1\n",
    "    X_train,X_test,y_train,y_test = train_test_split(X,y,test_size=0.15,random_state=0)\n",
    "\n",
    "    clf = LogisticRegression(max_iter=1000,multi_class='multinomial')\n",
    "    clf.fit(X_train,y_train)\n",
    "    print(f'Logistic regression accuracy: {clf.score(X_test,y_test):.2f}')"
   ]
  },
  {
   "cell_type": "code",
   "execution_count": null,
   "metadata": {},
   "outputs": [],
   "source": [
    "#results paste\n",
    "# predicting EXT7\n",
    "# Logistic regression accuracy: 0.49\n",
    "# predicting EST1\n",
    "# Logistic regression accuracy: 0.49\n",
    "# predicting AGR8\n",
    "# Logistic regression accuracy: 0.49\n",
    "# predicting CSN3\n",
    "# Logistic regression accuracy: 0.49\n",
    "# predicting OPN7\n",
    "# Logistic regression accuracy: 0.53"
   ]
  }
 ],
 "metadata": {
  "kernelspec": {
   "display_name": "Python 3.8.5 ('base')",
   "language": "python",
   "name": "python3"
  },
  "language_info": {
   "codemirror_mode": {
    "name": "ipython",
    "version": 3
   },
   "file_extension": ".py",
   "mimetype": "text/x-python",
   "name": "python",
   "nbconvert_exporter": "python",
   "pygments_lexer": "ipython3",
   "version": "3.8.5"
  },
  "orig_nbformat": 4,
  "vscode": {
   "interpreter": {
    "hash": "ad2bdc8ecc057115af97d19610ffacc2b4e99fae6737bb82f5d7fb13d2f2c186"
   }
  }
 },
 "nbformat": 4,
 "nbformat_minor": 2
}
